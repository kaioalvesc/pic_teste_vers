{
  "nbformat": 4,
  "nbformat_minor": 0,
  "metadata": {
    "colab": {
      "name": "Teste_PicPay.ipynb",
      "provenance": [],
      "collapsed_sections": []
    },
    "kernelspec": {
      "name": "python3",
      "display_name": "Python 3"
    },
    "language_info": {
      "name": "python"
    }
  },
  "cells": [
    {
      "cell_type": "markdown",
      "metadata": {
        "id": "cQqNTrg0SKXh"
      },
      "source": [
        "#Descrição: Codigo criacao de modelos e analise exploratoria PicPay \n",
        "#Data: 14-04-2021 \n",
        "#Versão: 1 \n",
        "#Desenvolvedor: Kaio Alves Chaves"
      ]
    },
    {
      "cell_type": "code",
      "metadata": {
        "id": "HukYonxR8R63",
        "colab": {
          "base_uri": "https://localhost:8080/"
        },
        "outputId": "9afef51b-a964-465d-cafd-bbb2994d60f9"
      },
      "source": [
        "# !pip -q install boto3\n",
        "# !pip -q install s3fs\n",
        "# !pip -q install smart_open\n"
      ],
      "execution_count": 74,
      "outputs": [
        {
          "output_type": "stream",
          "text": [
            "\u001b[31mERROR: aiobotocore 1.3.0 has requirement botocore<1.20.50,>=1.20.49, but you'll have botocore 1.20.51 which is incompatible.\u001b[0m\n",
            "\u001b[31mERROR: boto3 1.17.51 has requirement botocore<1.21.0,>=1.20.51, but you'll have botocore 1.20.49 which is incompatible.\u001b[0m\n"
          ],
          "name": "stdout"
        }
      ]
    },
    {
      "cell_type": "code",
      "metadata": {
        "id": "54P-csiT8V_v"
      },
      "source": [
        "import requests\n",
        "import pandas as pd\n",
        "from base64 import b64encode, b64decode\n",
        "from smart_open import smart_open\n",
        "import os\n",
        "import boto3\n",
        "from s3fs.core import S3FileSystem\n",
        "import configparser\n",
        "import matplotlib.pyplot as plt\n",
        "from sklearn.utils import shuffle\n",
        "from sklearn.ensemble import RandomForestRegressor\n",
        "from sklearn.linear_model import LinearRegression\n",
        "from sklearn.metrics import r2_score, mean_squared_error\n",
        "from sklearn.model_selection import cross_val_score, GridSearchCV, train_test_split\n",
        "import numpy as np"
      ],
      "execution_count": 309,
      "outputs": []
    },
    {
      "cell_type": "markdown",
      "metadata": {
        "id": "ZTofB9zvTNlO"
      },
      "source": [
        "Carregando informções do Bucket Cleaned da arquitetura S3"
      ]
    },
    {
      "cell_type": "code",
      "metadata": {
        "id": "CQP5Jstz0L90"
      },
      "source": [
        "BUCKET_NAME = 'picpay-bucket-kaio-cleaned' \n",
        "\n",
        "s3 = boto3.resource('s3', aws_access_key_id = 'XXXXXXXXXXXXXXXXXX', \n",
        "                          aws_secret_access_key= 'XXXXXXXXXXXXXXXXXX')"
      ],
      "execution_count": 78,
      "outputs": []
    },
    {
      "cell_type": "code",
      "metadata": {
        "colab": {
          "base_uri": "https://localhost:8080/",
          "height": 419
        },
        "id": "-0a25URJDNNr",
        "outputId": "a809f65d-c992-47bc-cfcd-b824d489f014"
      },
      "source": [
        "\n",
        "bucket = s3.Bucket(BUCKET_NAME)\n",
        "\n",
        "for obj in bucket.objects.all():\n",
        "      key = obj.key\n",
        "      print\n",
        "      body = obj.get()['Body'].read()\n",
        "      lista = body.splitlines()\n",
        "      for a in lista:\n",
        "        indice =lista.index(a)\n",
        "        if indice  > 0: \n",
        "          s3_df=df.append({'id' : a[0] ,\n",
        "            'name' : a[1],\n",
        "            'abv' : a[2],\n",
        "            'ibu' : a[3],\n",
        "            'target_fg' : a[4],\n",
        "            'target_og' : a[5],\n",
        "            'ebc' : a[6],\n",
        "            'srm' : a[7],\n",
        "            'ph' : a[8]}, ignore_index=True)\n",
        "    \n",
        "s3_df.to_csv('treina_model_s3.csv')\n",
        "s3_df\n",
        "\n",
        "  \n",
        "\n",
        "\n",
        "    \n"
      ],
      "execution_count": 323,
      "outputs": [
        {
          "output_type": "execute_result",
          "data": {
            "text/html": [
              "<div>\n",
              "<style scoped>\n",
              "    .dataframe tbody tr th:only-of-type {\n",
              "        vertical-align: middle;\n",
              "    }\n",
              "\n",
              "    .dataframe tbody tr th {\n",
              "        vertical-align: top;\n",
              "    }\n",
              "\n",
              "    .dataframe thead th {\n",
              "        text-align: right;\n",
              "    }\n",
              "</style>\n",
              "<table border=\"1\" class=\"dataframe\">\n",
              "  <thead>\n",
              "    <tr style=\"text-align: right;\">\n",
              "      <th></th>\n",
              "      <th>id</th>\n",
              "      <th>name</th>\n",
              "      <th>abv</th>\n",
              "      <th>ibu</th>\n",
              "      <th>target_fg</th>\n",
              "      <th>target_og</th>\n",
              "      <th>ebc</th>\n",
              "      <th>srm</th>\n",
              "      <th>ph</th>\n",
              "    </tr>\n",
              "  </thead>\n",
              "  <tbody>\n",
              "    <tr>\n",
              "      <th>0</th>\n",
              "      <td>77</td>\n",
              "      <td>Hobo Pop</td>\n",
              "      <td>4.2</td>\n",
              "      <td>50</td>\n",
              "      <td>1010</td>\n",
              "      <td>1042</td>\n",
              "      <td>30</td>\n",
              "      <td>15</td>\n",
              "      <td>4.4</td>\n",
              "    </tr>\n",
              "    <tr>\n",
              "      <th>1</th>\n",
              "      <td>5</td>\n",
              "      <td>Avery Brown Dredge</td>\n",
              "      <td>7.2</td>\n",
              "      <td>59</td>\n",
              "      <td>1027</td>\n",
              "      <td>1069</td>\n",
              "      <td>10</td>\n",
              "      <td>5</td>\n",
              "      <td>4.4</td>\n",
              "    </tr>\n",
              "    <tr>\n",
              "      <th>2</th>\n",
              "      <td>289</td>\n",
              "      <td>Hello My Name Is Lieke</td>\n",
              "      <td>8.2</td>\n",
              "      <td>70</td>\n",
              "      <td>1009</td>\n",
              "      <td>1070</td>\n",
              "      <td>15</td>\n",
              "      <td>8</td>\n",
              "      <td>4.4</td>\n",
              "    </tr>\n",
              "    <tr>\n",
              "      <th>3</th>\n",
              "      <td>250</td>\n",
              "      <td>Small Batch: Rye IPA</td>\n",
              "      <td>7.2</td>\n",
              "      <td>100</td>\n",
              "      <td>1010</td>\n",
              "      <td>1065</td>\n",
              "      <td>8</td>\n",
              "      <td>16</td>\n",
              "      <td>4.4</td>\n",
              "    </tr>\n",
              "    <tr>\n",
              "      <th>4</th>\n",
              "      <td>243</td>\n",
              "      <td>Gin Blitz</td>\n",
              "      <td>3.2</td>\n",
              "      <td>8</td>\n",
              "      <td>1008</td>\n",
              "      <td>1038</td>\n",
              "      <td>8</td>\n",
              "      <td>4</td>\n",
              "      <td>3.2</td>\n",
              "    </tr>\n",
              "    <tr>\n",
              "      <th>...</th>\n",
              "      <td>...</td>\n",
              "      <td>...</td>\n",
              "      <td>...</td>\n",
              "      <td>...</td>\n",
              "      <td>...</td>\n",
              "      <td>...</td>\n",
              "      <td>...</td>\n",
              "      <td>...</td>\n",
              "      <td>...</td>\n",
              "    </tr>\n",
              "    <tr>\n",
              "      <th>997</th>\n",
              "      <td>201</td>\n",
              "      <td>Waimea - IPA Is Dead</td>\n",
              "      <td>6.7</td>\n",
              "      <td>70</td>\n",
              "      <td>1015</td>\n",
              "      <td>1066</td>\n",
              "      <td>30</td>\n",
              "      <td>15</td>\n",
              "      <td>4.4</td>\n",
              "    </tr>\n",
              "    <tr>\n",
              "      <th>998</th>\n",
              "      <td>179</td>\n",
              "      <td>How To Disappear Completely</td>\n",
              "      <td>3.5</td>\n",
              "      <td>198</td>\n",
              "      <td>1010</td>\n",
              "      <td>1037</td>\n",
              "      <td>37</td>\n",
              "      <td>19</td>\n",
              "      <td>4.4</td>\n",
              "    </tr>\n",
              "    <tr>\n",
              "      <th>999</th>\n",
              "      <td>105</td>\n",
              "      <td>Hello My Name Is Beastie</td>\n",
              "      <td>8.2</td>\n",
              "      <td>42</td>\n",
              "      <td>1013</td>\n",
              "      <td>1078</td>\n",
              "      <td>90</td>\n",
              "      <td>45</td>\n",
              "      <td>4.4</td>\n",
              "    </tr>\n",
              "    <tr>\n",
              "      <th>1000</th>\n",
              "      <td>38</td>\n",
              "      <td>Belgian Trappist</td>\n",
              "      <td>6.3</td>\n",
              "      <td>55</td>\n",
              "      <td>1012</td>\n",
              "      <td>1060</td>\n",
              "      <td>30</td>\n",
              "      <td>15</td>\n",
              "      <td>4.4</td>\n",
              "    </tr>\n",
              "    <tr>\n",
              "      <th>1001</th>\n",
              "      <td>57</td>\n",
              "      <td>49</td>\n",
              "      <td>44.0</td>\n",
              "      <td>68</td>\n",
              "      <td>101</td>\n",
              "      <td>97</td>\n",
              "      <td>100</td>\n",
              "      <td>32</td>\n",
              "      <td>80</td>\n",
              "    </tr>\n",
              "  </tbody>\n",
              "</table>\n",
              "<p>1002 rows × 9 columns</p>\n",
              "</div>"
            ],
            "text/plain": [
              "       id                         name   abv  ibu  ... target_og  ebc srm   ph\n",
              "0      77                     Hobo Pop   4.2   50  ...      1042   30  15  4.4\n",
              "1       5           Avery Brown Dredge   7.2   59  ...      1069   10   5  4.4\n",
              "2     289       Hello My Name Is Lieke   8.2   70  ...      1070   15   8  4.4\n",
              "3     250         Small Batch: Rye IPA   7.2  100  ...      1065    8  16  4.4\n",
              "4     243                    Gin Blitz   3.2    8  ...      1038    8   4  3.2\n",
              "...   ...                          ...   ...  ...  ...       ...  ...  ..  ...\n",
              "997   201         Waimea - IPA Is Dead   6.7   70  ...      1066   30  15  4.4\n",
              "998   179  How To Disappear Completely   3.5  198  ...      1037   37  19  4.4\n",
              "999   105     Hello My Name Is Beastie   8.2   42  ...      1078   90  45  4.4\n",
              "1000   38             Belgian Trappist   6.3   55  ...      1060   30  15  4.4\n",
              "1001   57                           49  44.0   68  ...        97  100  32   80\n",
              "\n",
              "[1002 rows x 9 columns]"
            ]
          },
          "metadata": {
            "tags": []
          },
          "execution_count": 323
        }
      ]
    },
    {
      "cell_type": "markdown",
      "metadata": {
        "id": "ohq08u05TqM6"
      },
      "source": [
        "Gerando Base de treino Via API PUNKAPI"
      ]
    },
    {
      "cell_type": "code",
      "metadata": {
        "id": "eKYr9J7Q8Vyi"
      },
      "source": [
        "\n",
        "cols = ['id','name','abv','ibu','target_fg','target_og','ebc','srm','ph']\n",
        "\n",
        "\n",
        "df = pd.DataFrame(columns=cols)\n",
        "\n",
        "for i in range(1001):\n",
        "    requisitado = 'https://api.punkapi.com/v2/beers/random'\n",
        "    requisitado_info = requests.get(requisitado)\n",
        "    requisitado_json = requisitado_info.json()\n",
        "    requisitado_json_fora = requisitado_json[0]\n",
        "    df=df.append({'id' : requisitado_json_fora['id'] ,\n",
        "                  'name' : requisitado_json_fora['name'],\n",
        "                  'abv' : requisitado_json_fora['abv'],\n",
        "                  'ibu' : requisitado_json_fora['ibu'],\n",
        "                  'target_fg' : requisitado_json_fora['target_fg'],\n",
        "                  'target_og' : requisitado_json_fora['target_og'],\n",
        "                  'ebc' : requisitado_json_fora['ebc'],\n",
        "                  'srm' : requisitado_json_fora['srm'],\n",
        "                  'ph' : requisitado_json_fora['ph']}, ignore_index=True)\n",
        "    \n",
        "df.to_csv('treina_model.csv')\n",
        "\n",
        "  \n",
        "\n",
        "\n",
        "\n",
        "\n",
        "\n"
      ],
      "execution_count": 44,
      "outputs": []
    },
    {
      "cell_type": "markdown",
      "metadata": {
        "id": "y7iGIANETymy"
      },
      "source": [
        "Preparacao e análise exploratória "
      ]
    },
    {
      "cell_type": "code",
      "metadata": {
        "id": "UK65WYiL8VkL"
      },
      "source": [
        "df_base_modelo = pd.read_csv('treina_model.csv')\n"
      ],
      "execution_count": 46,
      "outputs": []
    },
    {
      "cell_type": "code",
      "metadata": {
        "id": "D7pjcQrQTAhH",
        "colab": {
          "base_uri": "https://localhost:8080/"
        },
        "outputId": "431df383-a3b7-4b5e-f226-d5474a5ee9d7"
      },
      "source": [
        "df_base_modelo=df_base_modelo.sort_values('id')\n",
        "print(df_base_modelo.columns)\n",
        "print(df_base_modelo.shape)"
      ],
      "execution_count": 54,
      "outputs": [
        {
          "output_type": "stream",
          "text": [
            "Index(['Unnamed: 0', 'id', 'name', 'abv', 'ibu', 'target_fg', 'target_og',\n",
            "       'ebc', 'srm', 'ph'],\n",
            "      dtype='object')\n",
            "(1001, 10)\n"
          ],
          "name": "stdout"
        }
      ]
    },
    {
      "cell_type": "code",
      "metadata": {
        "id": "9AJfNed5SvgO",
        "colab": {
          "base_uri": "https://localhost:8080/"
        },
        "outputId": "f60bac62-65e0-4653-bf08-126b5112694e"
      },
      "source": [
        "print(df_base_modelo)\n",
        "result_df = df_base_modelo.drop_duplicates(subset=['id'], keep='first')\n",
        "print(result_df)"
      ],
      "execution_count": 59,
      "outputs": [
        {
          "output_type": "stream",
          "text": [
            "     Unnamed: 0   id     name  abv   ibu  target_fg  target_og   ebc   srm   ph\n",
            "781         781    1     Buzz  4.5  60.0       1010     1044.0  20.0  10.0  4.4\n",
            "75           75    1     Buzz  4.5  60.0       1010     1044.0  20.0  10.0  4.4\n",
            "618         618    1     Buzz  4.5  60.0       1010     1044.0  20.0  10.0  4.4\n",
            "718         718    1     Buzz  4.5  60.0       1010     1044.0  20.0  10.0  4.4\n",
            "952         952    1     Buzz  4.5  60.0       1010     1044.0  20.0  10.0  4.4\n",
            "..          ...  ...      ...  ...   ...        ...        ...   ...   ...  ...\n",
            "144         144  325  Zipcode  5.0  37.0       1006     1044.0   5.0   3.0  4.4\n",
            "930         930  325  Zipcode  5.0  37.0       1006     1044.0   5.0   3.0  4.4\n",
            "615         615  325  Zipcode  5.0  37.0       1006     1044.0   5.0   3.0  4.4\n",
            "398         398  325  Zipcode  5.0  37.0       1006     1044.0   5.0   3.0  4.4\n",
            "562         562  325  Zipcode  5.0  37.0       1006     1044.0   5.0   3.0  4.4\n",
            "\n",
            "[1001 rows x 10 columns]\n",
            "     Unnamed: 0   id                                 name  ...   ebc   srm   ph\n",
            "781         781    1                                 Buzz  ...  20.0  10.0  4.4\n",
            "458         458    2                        Trashy Blonde  ...  15.0  15.0  4.4\n",
            "643         643    3  Berliner Weisse With Yuzu - B-Sides  ...   8.0   4.0  3.2\n",
            "651         651    4                         Pilsen Lager  ...  30.0  15.0  4.4\n",
            "152         152    5                   Avery Brown Dredge  ...  10.0   5.0  4.4\n",
            "..          ...  ...                                  ...  ...   ...   ...  ...\n",
            "548         548  321                        Jinx Pale Ale  ...  13.0   7.0  4.6\n",
            "339         339  322                            Jet Trash  ...  18.0   9.0  4.6\n",
            "542         542  323             Interstate Vienna Lager.  ...  14.0   7.0  4.2\n",
            "606         606  324          Fools Gold Dortmunder Lager  ...  11.0   6.0  4.2\n",
            "494         494  325                              Zipcode  ...   5.0   3.0  4.4\n",
            "\n",
            "[313 rows x 10 columns]\n"
          ],
          "name": "stdout"
        }
      ]
    },
    {
      "cell_type": "code",
      "metadata": {
        "colab": {
          "base_uri": "https://localhost:8080/"
        },
        "id": "Qhn0eaH_TJV9",
        "outputId": "807136ea-0e01-478b-d503-9e8d1ac39f77"
      },
      "source": [
        "result_df.dtypes"
      ],
      "execution_count": 62,
      "outputs": [
        {
          "output_type": "execute_result",
          "data": {
            "text/plain": [
              "Unnamed: 0      int64\n",
              "id              int64\n",
              "name           object\n",
              "abv           float64\n",
              "ibu           float64\n",
              "target_fg       int64\n",
              "target_og     float64\n",
              "ebc           float64\n",
              "srm           float64\n",
              "ph            float64\n",
              "dtype: object"
            ]
          },
          "metadata": {
            "tags": []
          },
          "execution_count": 62
        }
      ]
    },
    {
      "cell_type": "code",
      "metadata": {
        "colab": {
          "base_uri": "https://localhost:8080/"
        },
        "id": "6sN5FA9wTaMF",
        "outputId": "f5b47898-a332-4286-8239-db4e653b91aa"
      },
      "source": [
        "for con in cols:\n",
        "  print('Na coluna ' + str(con) + ' há ' + str(result_df[con].isnull().sum()) + ' Nulos ')\n",
        "\n",
        "print('##########################')\n",
        "result_df_limpo = result_df.dropna()\n",
        "\n",
        "for con in cols:\n",
        "  print('Na coluna ' + str(con) + ' há ' + str(result_df_limpo[con].isnull().sum()) + ' Nulos ')\n",
        "\n"
      ],
      "execution_count": 72,
      "outputs": [
        {
          "output_type": "stream",
          "text": [
            "Na coluna id há 0 Nulos \n",
            "Na coluna name há 0 Nulos \n",
            "Na coluna abv há 0 Nulos \n",
            "Na coluna ibu há 3 Nulos \n",
            "Na coluna target_fg há 0 Nulos \n",
            "Na coluna target_og há 0 Nulos \n",
            "Na coluna ebc há 4 Nulos \n",
            "Na coluna srm há 4 Nulos \n",
            "Na coluna ph há 1 Nulos \n",
            "##########################\n",
            "Na coluna id há 0 Nulos \n",
            "Na coluna name há 0 Nulos \n",
            "Na coluna abv há 0 Nulos \n",
            "Na coluna ibu há 0 Nulos \n",
            "Na coluna target_fg há 0 Nulos \n",
            "Na coluna target_og há 0 Nulos \n",
            "Na coluna ebc há 0 Nulos \n",
            "Na coluna srm há 0 Nulos \n",
            "Na coluna ph há 0 Nulos \n"
          ],
          "name": "stdout"
        }
      ]
    },
    {
      "cell_type": "code",
      "metadata": {
        "id": "kS78HmUJZW-2",
        "colab": {
          "base_uri": "https://localhost:8080/",
          "height": 297
        },
        "outputId": "ba1a4dc9-beb8-4e21-f363-409a90eff2e9"
      },
      "source": [
        "result_df_limpo.describe()"
      ],
      "execution_count": 73,
      "outputs": [
        {
          "output_type": "execute_result",
          "data": {
            "text/html": [
              "<div>\n",
              "<style scoped>\n",
              "    .dataframe tbody tr th:only-of-type {\n",
              "        vertical-align: middle;\n",
              "    }\n",
              "\n",
              "    .dataframe tbody tr th {\n",
              "        vertical-align: top;\n",
              "    }\n",
              "\n",
              "    .dataframe thead th {\n",
              "        text-align: right;\n",
              "    }\n",
              "</style>\n",
              "<table border=\"1\" class=\"dataframe\">\n",
              "  <thead>\n",
              "    <tr style=\"text-align: right;\">\n",
              "      <th></th>\n",
              "      <th>Unnamed: 0</th>\n",
              "      <th>id</th>\n",
              "      <th>abv</th>\n",
              "      <th>ibu</th>\n",
              "      <th>target_fg</th>\n",
              "      <th>target_og</th>\n",
              "      <th>ebc</th>\n",
              "      <th>srm</th>\n",
              "      <th>ph</th>\n",
              "    </tr>\n",
              "  </thead>\n",
              "  <tbody>\n",
              "    <tr>\n",
              "      <th>count</th>\n",
              "      <td>306.000000</td>\n",
              "      <td>306.000000</td>\n",
              "      <td>306.000000</td>\n",
              "      <td>306.000000</td>\n",
              "      <td>306.000000</td>\n",
              "      <td>306.000000</td>\n",
              "      <td>306.000000</td>\n",
              "      <td>306.00000</td>\n",
              "      <td>306.00000</td>\n",
              "    </tr>\n",
              "    <tr>\n",
              "      <th>mean</th>\n",
              "      <td>515.098039</td>\n",
              "      <td>163.349673</td>\n",
              "      <td>7.778105</td>\n",
              "      <td>65.732026</td>\n",
              "      <td>1015.176471</td>\n",
              "      <td>1067.643464</td>\n",
              "      <td>66.947386</td>\n",
              "      <td>33.70098</td>\n",
              "      <td>4.66732</td>\n",
              "    </tr>\n",
              "    <tr>\n",
              "      <th>std</th>\n",
              "      <td>285.989287</td>\n",
              "      <td>94.012618</td>\n",
              "      <td>3.922984</td>\n",
              "      <td>94.011972</td>\n",
              "      <td>13.963239</td>\n",
              "      <td>27.175308</td>\n",
              "      <td>93.518680</td>\n",
              "      <td>47.15671</td>\n",
              "      <td>4.27741</td>\n",
              "    </tr>\n",
              "    <tr>\n",
              "      <th>min</th>\n",
              "      <td>0.000000</td>\n",
              "      <td>1.000000</td>\n",
              "      <td>0.500000</td>\n",
              "      <td>0.000000</td>\n",
              "      <td>1000.000000</td>\n",
              "      <td>1007.000000</td>\n",
              "      <td>2.000000</td>\n",
              "      <td>1.00000</td>\n",
              "      <td>3.20000</td>\n",
              "    </tr>\n",
              "    <tr>\n",
              "      <th>25%</th>\n",
              "      <td>280.500000</td>\n",
              "      <td>83.250000</td>\n",
              "      <td>5.200000</td>\n",
              "      <td>35.000000</td>\n",
              "      <td>1010.000000</td>\n",
              "      <td>1048.625000</td>\n",
              "      <td>15.000000</td>\n",
              "      <td>8.00000</td>\n",
              "      <td>4.40000</td>\n",
              "    </tr>\n",
              "    <tr>\n",
              "      <th>50%</th>\n",
              "      <td>518.000000</td>\n",
              "      <td>163.500000</td>\n",
              "      <td>7.200000</td>\n",
              "      <td>50.000000</td>\n",
              "      <td>1012.000000</td>\n",
              "      <td>1065.000000</td>\n",
              "      <td>29.000000</td>\n",
              "      <td>15.00000</td>\n",
              "      <td>4.40000</td>\n",
              "    </tr>\n",
              "    <tr>\n",
              "      <th>75%</th>\n",
              "      <td>745.000000</td>\n",
              "      <td>244.750000</td>\n",
              "      <td>9.000000</td>\n",
              "      <td>70.000000</td>\n",
              "      <td>1015.000000</td>\n",
              "      <td>1080.000000</td>\n",
              "      <td>76.850000</td>\n",
              "      <td>39.00000</td>\n",
              "      <td>4.40000</td>\n",
              "    </tr>\n",
              "    <tr>\n",
              "      <th>max</th>\n",
              "      <td>999.000000</td>\n",
              "      <td>325.000000</td>\n",
              "      <td>41.000000</td>\n",
              "      <td>1157.000000</td>\n",
              "      <td>1125.000000</td>\n",
              "      <td>1157.000000</td>\n",
              "      <td>600.000000</td>\n",
              "      <td>305.00000</td>\n",
              "      <td>79.00000</td>\n",
              "    </tr>\n",
              "  </tbody>\n",
              "</table>\n",
              "</div>"
            ],
            "text/plain": [
              "       Unnamed: 0          id         abv  ...         ebc        srm         ph\n",
              "count  306.000000  306.000000  306.000000  ...  306.000000  306.00000  306.00000\n",
              "mean   515.098039  163.349673    7.778105  ...   66.947386   33.70098    4.66732\n",
              "std    285.989287   94.012618    3.922984  ...   93.518680   47.15671    4.27741\n",
              "min      0.000000    1.000000    0.500000  ...    2.000000    1.00000    3.20000\n",
              "25%    280.500000   83.250000    5.200000  ...   15.000000    8.00000    4.40000\n",
              "50%    518.000000  163.500000    7.200000  ...   29.000000   15.00000    4.40000\n",
              "75%    745.000000  244.750000    9.000000  ...   76.850000   39.00000    4.40000\n",
              "max    999.000000  325.000000   41.000000  ...  600.000000  305.00000   79.00000\n",
              "\n",
              "[8 rows x 9 columns]"
            ]
          },
          "metadata": {
            "tags": []
          },
          "execution_count": 73
        }
      ]
    },
    {
      "cell_type": "code",
      "metadata": {
        "colab": {
          "base_uri": "https://localhost:8080/",
          "height": 328
        },
        "id": "B7HRueJ83B_N",
        "outputId": "16a04d86-7f14-48fc-8e2e-0b460ead703c"
      },
      "source": [
        "correlacao=result_df_limpo.corr()\n",
        "correlacao[['abv','ibu','target_fg','target_og','ebc','srm','ph']]\n"
      ],
      "execution_count": 199,
      "outputs": [
        {
          "output_type": "execute_result",
          "data": {
            "text/html": [
              "<div>\n",
              "<style scoped>\n",
              "    .dataframe tbody tr th:only-of-type {\n",
              "        vertical-align: middle;\n",
              "    }\n",
              "\n",
              "    .dataframe tbody tr th {\n",
              "        vertical-align: top;\n",
              "    }\n",
              "\n",
              "    .dataframe thead th {\n",
              "        text-align: right;\n",
              "    }\n",
              "</style>\n",
              "<table border=\"1\" class=\"dataframe\">\n",
              "  <thead>\n",
              "    <tr style=\"text-align: right;\">\n",
              "      <th></th>\n",
              "      <th>abv</th>\n",
              "      <th>ibu</th>\n",
              "      <th>target_fg</th>\n",
              "      <th>target_og</th>\n",
              "      <th>ebc</th>\n",
              "      <th>srm</th>\n",
              "      <th>ph</th>\n",
              "    </tr>\n",
              "  </thead>\n",
              "  <tbody>\n",
              "    <tr>\n",
              "      <th>Unnamed: 0</th>\n",
              "      <td>0.065967</td>\n",
              "      <td>-0.004735</td>\n",
              "      <td>0.012679</td>\n",
              "      <td>0.022956</td>\n",
              "      <td>-0.025111</td>\n",
              "      <td>-0.026119</td>\n",
              "      <td>0.091554</td>\n",
              "    </tr>\n",
              "    <tr>\n",
              "      <th>id</th>\n",
              "      <td>-0.011673</td>\n",
              "      <td>-0.004788</td>\n",
              "      <td>0.014826</td>\n",
              "      <td>-0.017041</td>\n",
              "      <td>0.022148</td>\n",
              "      <td>0.025548</td>\n",
              "      <td>0.088157</td>\n",
              "    </tr>\n",
              "    <tr>\n",
              "      <th>abv</th>\n",
              "      <td>1.000000</td>\n",
              "      <td>0.625113</td>\n",
              "      <td>0.258479</td>\n",
              "      <td>0.727743</td>\n",
              "      <td>0.408226</td>\n",
              "      <td>0.409166</td>\n",
              "      <td>0.024797</td>\n",
              "    </tr>\n",
              "    <tr>\n",
              "      <th>ibu</th>\n",
              "      <td>0.625113</td>\n",
              "      <td>1.000000</td>\n",
              "      <td>0.052879</td>\n",
              "      <td>0.247697</td>\n",
              "      <td>0.122422</td>\n",
              "      <td>0.123574</td>\n",
              "      <td>0.004479</td>\n",
              "    </tr>\n",
              "    <tr>\n",
              "      <th>target_fg</th>\n",
              "      <td>0.258479</td>\n",
              "      <td>0.052879</td>\n",
              "      <td>1.000000</td>\n",
              "      <td>-0.093918</td>\n",
              "      <td>0.357932</td>\n",
              "      <td>0.357456</td>\n",
              "      <td>0.005262</td>\n",
              "    </tr>\n",
              "    <tr>\n",
              "      <th>target_og</th>\n",
              "      <td>0.727743</td>\n",
              "      <td>0.247697</td>\n",
              "      <td>-0.093918</td>\n",
              "      <td>1.000000</td>\n",
              "      <td>0.449176</td>\n",
              "      <td>0.449988</td>\n",
              "      <td>0.047349</td>\n",
              "    </tr>\n",
              "    <tr>\n",
              "      <th>ebc</th>\n",
              "      <td>0.408226</td>\n",
              "      <td>0.122422</td>\n",
              "      <td>0.357932</td>\n",
              "      <td>0.449176</td>\n",
              "      <td>1.000000</td>\n",
              "      <td>0.999598</td>\n",
              "      <td>-0.016435</td>\n",
              "    </tr>\n",
              "    <tr>\n",
              "      <th>srm</th>\n",
              "      <td>0.409166</td>\n",
              "      <td>0.123574</td>\n",
              "      <td>0.357456</td>\n",
              "      <td>0.449988</td>\n",
              "      <td>0.999598</td>\n",
              "      <td>1.000000</td>\n",
              "      <td>-0.015945</td>\n",
              "    </tr>\n",
              "    <tr>\n",
              "      <th>ph</th>\n",
              "      <td>0.024797</td>\n",
              "      <td>0.004479</td>\n",
              "      <td>0.005262</td>\n",
              "      <td>0.047349</td>\n",
              "      <td>-0.016435</td>\n",
              "      <td>-0.015945</td>\n",
              "      <td>1.000000</td>\n",
              "    </tr>\n",
              "  </tbody>\n",
              "</table>\n",
              "</div>"
            ],
            "text/plain": [
              "                 abv       ibu  target_fg  ...       ebc       srm        ph\n",
              "Unnamed: 0  0.065967 -0.004735   0.012679  ... -0.025111 -0.026119  0.091554\n",
              "id         -0.011673 -0.004788   0.014826  ...  0.022148  0.025548  0.088157\n",
              "abv         1.000000  0.625113   0.258479  ...  0.408226  0.409166  0.024797\n",
              "ibu         0.625113  1.000000   0.052879  ...  0.122422  0.123574  0.004479\n",
              "target_fg   0.258479  0.052879   1.000000  ...  0.357932  0.357456  0.005262\n",
              "target_og   0.727743  0.247697  -0.093918  ...  0.449176  0.449988  0.047349\n",
              "ebc         0.408226  0.122422   0.357932  ...  1.000000  0.999598 -0.016435\n",
              "srm         0.409166  0.123574   0.357456  ...  0.999598  1.000000 -0.015945\n",
              "ph          0.024797  0.004479   0.005262  ... -0.016435 -0.015945  1.000000\n",
              "\n",
              "[9 rows x 7 columns]"
            ]
          },
          "metadata": {
            "tags": []
          },
          "execution_count": 199
        }
      ]
    },
    {
      "cell_type": "code",
      "metadata": {
        "colab": {
          "base_uri": "https://localhost:8080/",
          "height": 333
        },
        "id": "ZfDnfaBz3rB8",
        "outputId": "cafdfdef-4954-46cc-bfc4-450f8129f12c"
      },
      "source": [
        "plt.hist(result_df_limpo['abv'])\n"
      ],
      "execution_count": 205,
      "outputs": [
        {
          "output_type": "execute_result",
          "data": {
            "text/plain": [
              "(array([ 45., 181.,  51.,  23.,   4.,   0.,   0.,   1.,   0.,   1.]),\n",
              " array([ 0.5 ,  4.55,  8.6 , 12.65, 16.7 , 20.75, 24.8 , 28.85, 32.9 ,\n",
              "        36.95, 41.  ]),\n",
              " <a list of 10 Patch objects>)"
            ]
          },
          "metadata": {
            "tags": []
          },
          "execution_count": 205
        },
        {
          "output_type": "display_data",
          "data": {
            "image/png": "[encoded data removed]",
            "text/plain": [
              "<Figure size 432x288 with 1 Axes>"
            ]
          },
          "metadata": {
            "tags": [],
            "needs_background": "light"
          }
        }
      ]
    },
    {
      "cell_type": "code",
      "metadata": {
        "colab": {
          "base_uri": "https://localhost:8080/",
          "height": 333
        },
        "id": "-roICUAw7LBg",
        "outputId": "032e420d-26df-4ab3-b0e4-4a8bbb77bca5"
      },
      "source": [
        "plt.hist(result_df_limpo['ibu'])\n"
      ],
      "execution_count": 206,
      "outputs": [
        {
          "output_type": "execute_result",
          "data": {
            "text/plain": [
              "(array([291.,   7.,   6.,   0.,   0.,   0.,   0.,   0.,   0.,   2.]),\n",
              " array([   0. ,  115.7,  231.4,  347.1,  462.8,  578.5,  694.2,  809.9,\n",
              "         925.6, 1041.3, 1157. ]),\n",
              " <a list of 10 Patch objects>)"
            ]
          },
          "metadata": {
            "tags": []
          },
          "execution_count": 206
        },
        {
          "output_type": "display_data",
          "data": {
            "image/png": "[encoded data removed]",
            "text/plain": [
              "<Figure size 432x288 with 1 Axes>"
            ]
          },
          "metadata": {
            "tags": [],
            "needs_background": "light"
          }
        }
      ]
    },
    {
      "cell_type": "code",
      "metadata": {
        "colab": {
          "base_uri": "https://localhost:8080/",
          "height": 333
        },
        "id": "Qfvbf0p-7K84",
        "outputId": "26f8b256-0f0e-42a0-8097-d1c266b0eb1f"
      },
      "source": [
        "plt.hist(result_df_limpo['target_fg'])\n"
      ],
      "execution_count": 207,
      "outputs": [
        {
          "output_type": "execute_result",
          "data": {
            "text/plain": [
              "(array([171., 108.,  14.,   6.,   0.,   3.,   1.,   0.,   1.,   2.]),\n",
              " array([1000. , 1012.5, 1025. , 1037.5, 1050. , 1062.5, 1075. , 1087.5,\n",
              "        1100. , 1112.5, 1125. ]),\n",
              " <a list of 10 Patch objects>)"
            ]
          },
          "metadata": {
            "tags": []
          },
          "execution_count": 207
        },
        {
          "output_type": "display_data",
          "data": {
            "image/png": "[encoded data removed]",
            "text/plain": [
              "<Figure size 432x288 with 1 Axes>"
            ]
          },
          "metadata": {
            "tags": [],
            "needs_background": "light"
          }
        }
      ]
    },
    {
      "cell_type": "code",
      "metadata": {
        "colab": {
          "base_uri": "https://localhost:8080/",
          "height": 333
        },
        "id": "uMAOaSKR7K1b",
        "outputId": "9b33df54-2be0-446a-b21a-b1887e7c07fc"
      },
      "source": [
        "plt.hist(result_df_limpo['target_og'])\n"
      ],
      "execution_count": 208,
      "outputs": [
        {
          "output_type": "execute_result",
          "data": {
            "text/plain": [
              "(array([13.,  7., 68., 73., 74., 30., 15., 17.,  5.,  4.]),\n",
              " array([1007., 1022., 1037., 1052., 1067., 1082., 1097., 1112., 1127.,\n",
              "        1142., 1157.]),\n",
              " <a list of 10 Patch objects>)"
            ]
          },
          "metadata": {
            "tags": []
          },
          "execution_count": 208
        },
        {
          "output_type": "display_data",
          "data": {
            "image/png": "[encoded data removed]",
            "text/plain": [
              "<Figure size 432x288 with 1 Axes>"
            ]
          },
          "metadata": {
            "tags": [],
            "needs_background": "light"
          }
        }
      ]
    },
    {
      "cell_type": "code",
      "metadata": {
        "colab": {
          "base_uri": "https://localhost:8080/",
          "height": 333
        },
        "id": "FB9fsaEF7Kqk",
        "outputId": "28e87319-d106-4cd3-d951-78a2e1887188"
      },
      "source": [
        "plt.hist(result_df_limpo['ebc'])\n"
      ],
      "execution_count": 209,
      "outputs": [
        {
          "output_type": "execute_result",
          "data": {
            "text/plain": [
              "(array([222.,  33.,  15.,  16.,  12.,   0.,   5.,   0.,   2.,   1.]),\n",
              " array([  2. ,  61.8, 121.6, 181.4, 241.2, 301. , 360.8, 420.6, 480.4,\n",
              "        540.2, 600. ]),\n",
              " <a list of 10 Patch objects>)"
            ]
          },
          "metadata": {
            "tags": []
          },
          "execution_count": 209
        },
        {
          "output_type": "display_data",
          "data": {
            "image/png": "[encoded data removed]",
            "text/plain": [
              "<Figure size 432x288 with 1 Axes>"
            ]
          },
          "metadata": {
            "tags": [],
            "needs_background": "light"
          }
        }
      ]
    },
    {
      "cell_type": "code",
      "metadata": {
        "colab": {
          "base_uri": "https://localhost:8080/",
          "height": 333
        },
        "id": "CfYpcvtX7KQS",
        "outputId": "f4cc03ca-6bcc-4c3f-8f89-d596ecc9b652"
      },
      "source": [
        "plt.hist(result_df_limpo['srm'])\n"
      ],
      "execution_count": 210,
      "outputs": [
        {
          "output_type": "execute_result",
          "data": {
            "text/plain": [
              "(array([223.,  32.,  15.,  16.,  12.,   0.,   5.,   0.,   2.,   1.]),\n",
              " array([  1. ,  31.4,  61.8,  92.2, 122.6, 153. , 183.4, 213.8, 244.2,\n",
              "        274.6, 305. ]),\n",
              " <a list of 10 Patch objects>)"
            ]
          },
          "metadata": {
            "tags": []
          },
          "execution_count": 210
        },
        {
          "output_type": "display_data",
          "data": {
            "image/png": "[encoded data removed]",
            "text/plain": [
              "<Figure size 432x288 with 1 Axes>"
            ]
          },
          "metadata": {
            "tags": [],
            "needs_background": "light"
          }
        }
      ]
    },
    {
      "cell_type": "code",
      "metadata": {
        "colab": {
          "base_uri": "https://localhost:8080/",
          "height": 333
        },
        "id": "qa-yOu0D7PKQ",
        "outputId": "cfcf9c9d-8d39-47f3-fa32-a4430a30ac05"
      },
      "source": [
        "plt.hist(result_df_limpo['ph'])"
      ],
      "execution_count": 211,
      "outputs": [
        {
          "output_type": "execute_result",
          "data": {
            "text/plain": [
              "(array([305.,   0.,   0.,   0.,   0.,   0.,   0.,   0.,   0.,   1.]),\n",
              " array([ 3.2 , 10.78, 18.36, 25.94, 33.52, 41.1 , 48.68, 56.26, 63.84,\n",
              "        71.42, 79.  ]),\n",
              " <a list of 10 Patch objects>)"
            ]
          },
          "metadata": {
            "tags": []
          },
          "execution_count": 211
        },
        {
          "output_type": "display_data",
          "data": {
            "image/png": "[encoded data removed]",
            "text/plain": [
              "<Figure size 432x288 with 1 Axes>"
            ]
          },
          "metadata": {
            "tags": [],
            "needs_background": "light"
          }
        }
      ]
    },
    {
      "cell_type": "code",
      "metadata": {
        "id": "6ZAKn7e27Z0z"
      },
      "source": [
        "df_limpo_menor = pd.DataFrame(columns=['id','abv','ibu','target_fg','target_og','ebc','srm','ph'])\n",
        "for col in ['id','abv','ibu','target_fg','target_og','ebc','srm','ph']:\n",
        "  df_limpo_menor[col]=pd.to_numeric(result_df_limpo[col])\n"
      ],
      "execution_count": 218,
      "outputs": []
    },
    {
      "cell_type": "code",
      "metadata": {
        "colab": {
          "base_uri": "https://localhost:8080/",
          "height": 419
        },
        "id": "g9Hydko69nRn",
        "outputId": "55abca56-c3cc-4f53-a3fb-7496857c7aed"
      },
      "source": [
        "df_limpo_menor"
      ],
      "execution_count": 219,
      "outputs": [
        {
          "output_type": "execute_result",
          "data": {
            "text/html": [
              "<div>\n",
              "<style scoped>\n",
              "    .dataframe tbody tr th:only-of-type {\n",
              "        vertical-align: middle;\n",
              "    }\n",
              "\n",
              "    .dataframe tbody tr th {\n",
              "        vertical-align: top;\n",
              "    }\n",
              "\n",
              "    .dataframe thead th {\n",
              "        text-align: right;\n",
              "    }\n",
              "</style>\n",
              "<table border=\"1\" class=\"dataframe\">\n",
              "  <thead>\n",
              "    <tr style=\"text-align: right;\">\n",
              "      <th></th>\n",
              "      <th>id</th>\n",
              "      <th>abv</th>\n",
              "      <th>ibu</th>\n",
              "      <th>target_fg</th>\n",
              "      <th>target_og</th>\n",
              "      <th>ebc</th>\n",
              "      <th>srm</th>\n",
              "      <th>ph</th>\n",
              "    </tr>\n",
              "  </thead>\n",
              "  <tbody>\n",
              "    <tr>\n",
              "      <th>781</th>\n",
              "      <td>1</td>\n",
              "      <td>4.5</td>\n",
              "      <td>60.0</td>\n",
              "      <td>1010</td>\n",
              "      <td>1044.0</td>\n",
              "      <td>20.0</td>\n",
              "      <td>10.0</td>\n",
              "      <td>4.4</td>\n",
              "    </tr>\n",
              "    <tr>\n",
              "      <th>458</th>\n",
              "      <td>2</td>\n",
              "      <td>4.1</td>\n",
              "      <td>41.5</td>\n",
              "      <td>1010</td>\n",
              "      <td>1041.7</td>\n",
              "      <td>15.0</td>\n",
              "      <td>15.0</td>\n",
              "      <td>4.4</td>\n",
              "    </tr>\n",
              "    <tr>\n",
              "      <th>643</th>\n",
              "      <td>3</td>\n",
              "      <td>4.2</td>\n",
              "      <td>8.0</td>\n",
              "      <td>1007</td>\n",
              "      <td>1040.0</td>\n",
              "      <td>8.0</td>\n",
              "      <td>4.0</td>\n",
              "      <td>3.2</td>\n",
              "    </tr>\n",
              "    <tr>\n",
              "      <th>651</th>\n",
              "      <td>4</td>\n",
              "      <td>6.3</td>\n",
              "      <td>55.0</td>\n",
              "      <td>1012</td>\n",
              "      <td>1060.0</td>\n",
              "      <td>30.0</td>\n",
              "      <td>15.0</td>\n",
              "      <td>4.4</td>\n",
              "    </tr>\n",
              "    <tr>\n",
              "      <th>152</th>\n",
              "      <td>5</td>\n",
              "      <td>7.2</td>\n",
              "      <td>59.0</td>\n",
              "      <td>1027</td>\n",
              "      <td>1069.0</td>\n",
              "      <td>10.0</td>\n",
              "      <td>5.0</td>\n",
              "      <td>4.4</td>\n",
              "    </tr>\n",
              "    <tr>\n",
              "      <th>...</th>\n",
              "      <td>...</td>\n",
              "      <td>...</td>\n",
              "      <td>...</td>\n",
              "      <td>...</td>\n",
              "      <td>...</td>\n",
              "      <td>...</td>\n",
              "      <td>...</td>\n",
              "      <td>...</td>\n",
              "    </tr>\n",
              "    <tr>\n",
              "      <th>548</th>\n",
              "      <td>321</td>\n",
              "      <td>4.7</td>\n",
              "      <td>35.0</td>\n",
              "      <td>1008</td>\n",
              "      <td>1043.0</td>\n",
              "      <td>13.0</td>\n",
              "      <td>7.0</td>\n",
              "      <td>4.6</td>\n",
              "    </tr>\n",
              "    <tr>\n",
              "      <th>339</th>\n",
              "      <td>322</td>\n",
              "      <td>6.9</td>\n",
              "      <td>65.0</td>\n",
              "      <td>1008</td>\n",
              "      <td>1060.0</td>\n",
              "      <td>18.0</td>\n",
              "      <td>9.0</td>\n",
              "      <td>4.6</td>\n",
              "    </tr>\n",
              "    <tr>\n",
              "      <th>542</th>\n",
              "      <td>323</td>\n",
              "      <td>5.0</td>\n",
              "      <td>25.0</td>\n",
              "      <td>1007</td>\n",
              "      <td>1045.0</td>\n",
              "      <td>14.0</td>\n",
              "      <td>7.0</td>\n",
              "      <td>4.2</td>\n",
              "    </tr>\n",
              "    <tr>\n",
              "      <th>606</th>\n",
              "      <td>324</td>\n",
              "      <td>5.6</td>\n",
              "      <td>32.0</td>\n",
              "      <td>1009</td>\n",
              "      <td>1052.0</td>\n",
              "      <td>11.0</td>\n",
              "      <td>6.0</td>\n",
              "      <td>4.2</td>\n",
              "    </tr>\n",
              "    <tr>\n",
              "      <th>494</th>\n",
              "      <td>325</td>\n",
              "      <td>5.0</td>\n",
              "      <td>37.0</td>\n",
              "      <td>1006</td>\n",
              "      <td>1044.0</td>\n",
              "      <td>5.0</td>\n",
              "      <td>3.0</td>\n",
              "      <td>4.4</td>\n",
              "    </tr>\n",
              "  </tbody>\n",
              "</table>\n",
              "<p>306 rows × 8 columns</p>\n",
              "</div>"
            ],
            "text/plain": [
              "      id  abv   ibu  target_fg  target_og   ebc   srm   ph\n",
              "781    1  4.5  60.0       1010     1044.0  20.0  10.0  4.4\n",
              "458    2  4.1  41.5       1010     1041.7  15.0  15.0  4.4\n",
              "643    3  4.2   8.0       1007     1040.0   8.0   4.0  3.2\n",
              "651    4  6.3  55.0       1012     1060.0  30.0  15.0  4.4\n",
              "152    5  7.2  59.0       1027     1069.0  10.0   5.0  4.4\n",
              "..   ...  ...   ...        ...        ...   ...   ...  ...\n",
              "548  321  4.7  35.0       1008     1043.0  13.0   7.0  4.6\n",
              "339  322  6.9  65.0       1008     1060.0  18.0   9.0  4.6\n",
              "542  323  5.0  25.0       1007     1045.0  14.0   7.0  4.2\n",
              "606  324  5.6  32.0       1009     1052.0  11.0   6.0  4.2\n",
              "494  325  5.0  37.0       1006     1044.0   5.0   3.0  4.4\n",
              "\n",
              "[306 rows x 8 columns]"
            ]
          },
          "metadata": {
            "tags": []
          },
          "execution_count": 219
        }
      ]
    },
    {
      "cell_type": "code",
      "metadata": {
        "id": "Qylnprdt9qay"
      },
      "source": [
        "df_limpo_menor = shuffle(df_limpo_menor)"
      ],
      "execution_count": 222,
      "outputs": []
    },
    {
      "cell_type": "code",
      "metadata": {
        "id": "c2JDpxaU9qNn"
      },
      "source": [
        "x_vars = [\"abv\",\"target_fg\",\"target_og\",\"ebc\",\"srm\",\"ph\"]\n",
        "y_var = [\"ibu\"]"
      ],
      "execution_count": 235,
      "outputs": []
    },
    {
      "cell_type": "code",
      "metadata": {
        "id": "1VwoTo9dMGls"
      },
      "source": [
        "resultados=df_limpo_menor[y_var].values.ravel()"
      ],
      "execution_count": 300,
      "outputs": []
    },
    {
      "cell_type": "markdown",
      "metadata": {
        "id": "DZ2DcoNDT80a"
      },
      "source": [
        "**Execução de Modelos** - *RandomForest e Regreção linear*"
      ]
    },
    {
      "cell_type": "code",
      "metadata": {
        "id": "Vsk-81kaHvV2"
      },
      "source": [
        "#Funcao Padrão para estimar o precisão de modelos de resultado continuo\n",
        "\n",
        "def executa_modelo(estimator, param_grid, train_df, target):\n",
        "    x_train, x_test, y_train, y_test = train_test_split(train_df, target, test_size=0.4, random_state=23)\n",
        "    grid_cv = GridSearchCV(estimator=estimator, param_grid=param_grid, cv= 3)\n",
        "    grid_cv.fit(x_train, y_train)\n",
        "    y_pred = grid_cv.predict(x_test)\n",
        "    metrics = dict()\n",
        "    metrics['r2'] = r2_score(y_test, y_pred)\n",
        "    metrics['mse'] = mean_squared_error(y_test, y_pred)\n",
        "    print(\"Saida informacoes\")\n",
        "    print(\"Melhores Parametros {}\".format(grid_cv.best_params_))\n",
        "    print(\"Metricas: {}\".format(metrics))\n",
        "    return (grid_cv.best_estimator_, grid_cv.best_params_, metrics)"
      ],
      "execution_count": 319,
      "outputs": []
    },
    {
      "cell_type": "code",
      "metadata": {
        "colab": {
          "base_uri": "https://localhost:8080/"
        },
        "id": "ASj_pXzQRpoO",
        "outputId": "8c8a910a-1b02-40d4-f55d-697cb3b80105"
      },
      "source": [
        "rnd_mdl, rnd_par, rnd_met = executa_modelo(\n",
        "    estimator = LinearRegression(),\n",
        "    param_grid = {},\n",
        "    train_df = df_limpo_menor[x_vars],\n",
        "    target = resultados)"
      ],
      "execution_count": 320,
      "outputs": [
        {
          "output_type": "stream",
          "text": [
            "Saida informacoes\n",
            "Melhores Parametros {}\n",
            "Metricas: {'r2': 0.4013116461853331, 'mse': 6945.060643588449}\n"
          ],
          "name": "stdout"
        }
      ]
    },
    {
      "cell_type": "code",
      "metadata": {
        "id": "e70XS6Ir9p0a"
      },
      "source": [
        "parametros = { \n",
        "    'max_depth' : [2,5,10,20],\n",
        "    'n_estimators': [100, 200],\n",
        "    'max_features': ['auto', 'sqrt'],\n",
        "    'max_depth' : [4,8,12],\n",
        "    'criterion': [\"mse\"]\n",
        "}"
      ],
      "execution_count": 321,
      "outputs": []
    },
    {
      "cell_type": "code",
      "metadata": {
        "colab": {
          "base_uri": "https://localhost:8080/"
        },
        "id": "pJIV340HPlbO",
        "outputId": "05e98daa-d4e4-4271-8127-f42f1dc1fec8"
      },
      "source": [
        "rnd_mdl, rnd_par, rnd_met = executa_modelo(\n",
        "    estimator = RandomForestRegressor(),\n",
        "    param_grid = parametros,\n",
        "    train_df = df_limpo_menor[x_vars],\n",
        "    target = resultados)"
      ],
      "execution_count": 322,
      "outputs": [
        {
          "output_type": "stream",
          "text": [
            "Saida informacoes\n",
            "Melhores Parametros {'criterion': 'mse', 'max_depth': 4, 'max_features': 'auto', 'n_estimators': 100}\n",
            "Metricas: {'r2': 0.7100032690264512, 'mse': 3364.0956437866166}\n"
          ],
          "name": "stdout"
        }
      ]
    }
  ]
}